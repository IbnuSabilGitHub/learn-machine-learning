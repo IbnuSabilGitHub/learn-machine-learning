{
 "cells": [
  {
   "cell_type": "markdown",
   "id": "32b1db3a",
   "metadata": {},
   "source": [
    "# NumPy\n",
    "``numpy` adalah library yang sangat populer di Python untuk melakukan operasi pada array multidimensi."
   ]
  },
  {
   "cell_type": "markdown",
   "id": "c8202bc9",
   "metadata": {},
   "source": [
    "## 1. Import library NumPy"
   ]
  },
  {
   "cell_type": "code",
   "execution_count": 10,
   "id": "44265818",
   "metadata": {},
   "outputs": [],
   "source": [
    "import numpy as np"
   ]
  },
  {
   "cell_type": "markdown",
   "id": "7d1b997f",
   "metadata": {},
   "source": [
    "## 2. Array dasar"
   ]
  },
  {
   "cell_type": "code",
   "execution_count": 11,
   "id": "276c9b08",
   "metadata": {},
   "outputs": [],
   "source": [
    "# membuat array\n",
    "a = np.array([1, 2, 3, 4, 5]) # Array 1D\n",
    "b = np.array([[1, 2, 3], [4, 5, 6]]) # Array 2D\n",
    "x = np.array([6,3,8,2,9]) # Array 1D\n"
   ]
  },
  {
   "cell_type": "code",
   "execution_count": 12,
   "id": "eb8ca02b",
   "metadata": {},
   "outputs": [
    {
     "name": "stdout",
     "output_type": "stream",
     "text": [
      "------------------------a-------------------------\n",
      "int64\n",
      "(5,)\n",
      "1\n",
      "------------------------b-------------------------\n",
      "int64\n",
      "(2, 3)\n",
      "2\n"
     ]
    }
   ],
   "source": [
    "# Tipe data (dtype) dan shape\n",
    "print(\"a\".center(50, \"-\"))\n",
    "print(a.dtype)\n",
    "print(a.shape)\n",
    "print(a.ndim)\n",
    "print(\"b\".center(50, \"-\"))\n",
    "print(b.dtype)\n",
    "print(b.shape)\n",
    "print(b.ndim)\n",
    "\n"
   ]
  },
  {
   "cell_type": "markdown",
   "id": "196b00e5",
   "metadata": {},
   "source": [
    "## 3. Operasi dasar"
   ]
  },
  {
   "cell_type": "code",
   "execution_count": 13,
   "id": "986ddc8d",
   "metadata": {},
   "outputs": [
    {
     "name": "stdout",
     "output_type": "stream",
     "text": [
      "[2 3 4 5 6]\n",
      "[ 2  4  6  8 10]\n",
      "[ 1  4  9 16 25]\n"
     ]
    }
   ],
   "source": [
    "# Penjumlahan, pengurangan, perkalian\n",
    "print(a + 1)\n",
    "print(a * 2)\n",
    "print(a ** 2)\n"
   ]
  },
  {
   "cell_type": "code",
   "execution_count": 14,
   "id": "9751d539",
   "metadata": {},
   "outputs": [
    {
     "name": "stdout",
     "output_type": "stream",
     "text": [
      "[ 7  5 11  6 14]\n",
      "89\n"
     ]
    }
   ],
   "source": [
    "# Operasi antara array\n",
    "print(a+x)\n",
    "print(np.dot(a,x))\n",
    "# Jika array tidak memiliki dimensi yang sama, maka akan terjadi error"
   ]
  },
  {
   "cell_type": "markdown",
   "id": "9a340545",
   "metadata": {},
   "source": [
    "## 4. Index dan slicing"
   ]
  },
  {
   "cell_type": "code",
   "execution_count": 15,
   "id": "0d8367da",
   "metadata": {},
   "outputs": [
    {
     "name": "stdout",
     "output_type": "stream",
     "text": [
      "1\n",
      "[2 3]\n",
      "4\n"
     ]
    }
   ],
   "source": [
    "print(a[0])\n",
    "print(a[1:3])\n",
    "print(b[1,0])"
   ]
  },
  {
   "cell_type": "markdown",
   "id": "7d74fa54",
   "metadata": {},
   "source": [
    "# 5. Broadcasting"
   ]
  },
  {
   "cell_type": "code",
   "execution_count": null,
   "id": "d9461540",
   "metadata": {},
   "outputs": [
    {
     "name": "stdout",
     "output_type": "stream",
     "text": [
      "[[2 3 4]\n",
      " [3 4 5]\n",
      " [4 5 6]]\n"
     ]
    }
   ],
   "source": [
    "a = np.array([1, 2, 3,4])\n",
    "b = np.array([[1], [2], [3]])\n",
    "print(a + b)"
   ]
  },
  {
   "cell_type": "markdown",
   "id": "a9e46046",
   "metadata": {},
   "source": [
    "## 6. Reshape dan Transpose"
   ]
  },
  {
   "cell_type": "code",
   "execution_count": 46,
   "id": "c6c7640d",
   "metadata": {},
   "outputs": [
    {
     "name": "stdout",
     "output_type": "stream",
     "text": [
      "[1 2 3]\n"
     ]
    }
   ],
   "source": [
    "a.reshape(3, 1)\n",
    "\n",
    "print(a.T)"
   ]
  },
  {
   "cell_type": "markdown",
   "id": "6618aca2",
   "metadata": {},
   "source": [
    "## 7. Statistik Dasar"
   ]
  },
  {
   "cell_type": "code",
   "execution_count": null,
   "id": "3fb4f99d",
   "metadata": {},
   "outputs": [
    {
     "name": "stdout",
     "output_type": "stream",
     "text": [
      "2.0\n",
      "0.816496580927726\n",
      "3\n",
      "1\n",
      "6\n"
     ]
    }
   ],
   "source": [
    "print(np.mean(a))\n",
    "print(np.std(a))\n",
    "print(np.max(a))\n",
    "print(np.min(a))\n",
    "print(np.sum(a, axis=0))\n"
   ]
  },
  {
   "cell_type": "markdown",
   "id": "079b9d0d",
   "metadata": {},
   "source": [
    "## 8. Fungsi Khusus"
   ]
  },
  {
   "cell_type": "code",
   "execution_count": 49,
   "id": "fef74e27",
   "metadata": {},
   "outputs": [
    {
     "name": "stdout",
     "output_type": "stream",
     "text": [
      "[[0. 0. 0.]\n",
      " [0. 0. 0.]\n",
      " [0. 0. 0.]]\n",
      "[[1. 1.]\n",
      " [1. 1.]]\n",
      "[[1. 0. 0.]\n",
      " [0. 1. 0.]\n",
      " [0. 0. 1.]]\n",
      "[[0.02995582 0.81988786 0.64949354]\n",
      " [0.524706   0.24648942 0.24449959]\n",
      " [0.57152775 0.44497392 0.5640544 ]]\n",
      "[0 2 4 6 8]\n"
     ]
    }
   ],
   "source": [
    "print(np.zeros((3, 3)))\n",
    "print(np.ones((2, 2)))\n",
    "print(np.eye(3))\n",
    "print(np.random.rand(3, 3))\n",
    "print(np.arange(0, 10, 2))"
   ]
  },
  {
   "cell_type": "markdown",
   "id": "991b5a37",
   "metadata": {},
   "source": [
    "## 9. Operasi Matriks dan Vektor"
   ]
  },
  {
   "cell_type": "code",
   "execution_count": 51,
   "id": "49976f96",
   "metadata": {},
   "outputs": [
    {
     "name": "stdout",
     "output_type": "stream",
     "text": [
      "[[1 2]\n",
      " [3 4]\n",
      " [5 6]]\n",
      "[1 2 3]\n"
     ]
    }
   ],
   "source": [
    "## Matriks fitur dan target\n",
    "X = np.array([[1, 2], [3, 4], [5, 6]])\n",
    "y = np.array([1, 2, 3])\n",
    "print(X)\n",
    "print(y)\n"
   ]
  },
  {
   "cell_type": "code",
   "execution_count": 52,
   "id": "5aa53336",
   "metadata": {},
   "outputs": [
    {
     "name": "stdout",
     "output_type": "stream",
     "text": [
      "[[1 3 5]\n",
      " [2 4 6]]\n",
      "[[35 44]\n",
      " [44 56]]\n"
     ]
    }
   ],
   "source": [
    "## Transpose dan perkalian\n",
    "XT = X.T\n",
    "XT_X = XT @ X  # mirip dengan X.T.dot(X)\n",
    "\n",
    "print(XT)\n",
    "print(XT_X)"
   ]
  },
  {
   "cell_type": "markdown",
   "id": "6e404ff1",
   "metadata": {},
   "source": [
    "# 9. Standarisasi Fitur\n"
   ]
  },
  {
   "cell_type": "code",
   "execution_count": 53,
   "id": "c8cad447",
   "metadata": {},
   "outputs": [
    {
     "name": "stdout",
     "output_type": "stream",
     "text": [
      "[[-1.22474487 -1.22474487]\n",
      " [ 0.          0.        ]\n",
      " [ 1.22474487  1.22474487]]\n",
      "[1.63299316 1.63299316]\n",
      "[[-1.22474487 -1.22474487]\n",
      " [ 0.          0.        ]\n",
      " [ 1.22474487  1.22474487]]\n"
     ]
    }
   ],
   "source": [
    "X_mean = X.mean(axis=0)\n",
    "X_std = X.std(axis=0)\n",
    "X_scaled = (X - X_mean) / X_std\n",
    "\n",
    "print(X_scaled)\n",
    "print(X_std)\n",
    "print(X_scaled)\n"
   ]
  },
  {
   "cell_type": "markdown",
   "id": "47ee5965",
   "metadata": {},
   "source": [
    "# 10. Implementasi Regresi Linier Sederhana (tanpa library)"
   ]
  },
  {
   "cell_type": "code",
   "execution_count": 54,
   "id": "f62fcb0a",
   "metadata": {},
   "outputs": [
    {
     "name": "stdout",
     "output_type": "stream",
     "text": [
      "[[1]\n",
      " [2]\n",
      " [3]]\n",
      "[2 4 6]\n",
      "[2 4 6]\n"
     ]
    }
   ],
   "source": [
    "# y = wX + b\n",
    "X = np.array([[1], [2], [3]])\n",
    "y = np.array([2, 4, 6])\n",
    "w = np.linalg.inv(X.T @ X) @ X.T @ y\n",
    "\n",
    "print(X)\n",
    "print(y)\n",
    "print(y)"
   ]
  }
 ],
 "metadata": {
  "kernelspec": {
   "display_name": "venv",
   "language": "python",
   "name": "python3"
  },
  "language_info": {
   "codemirror_mode": {
    "name": "ipython",
    "version": 3
   },
   "file_extension": ".py",
   "mimetype": "text/x-python",
   "name": "python",
   "nbconvert_exporter": "python",
   "pygments_lexer": "ipython3",
   "version": "3.13.0"
  }
 },
 "nbformat": 4,
 "nbformat_minor": 5
}
