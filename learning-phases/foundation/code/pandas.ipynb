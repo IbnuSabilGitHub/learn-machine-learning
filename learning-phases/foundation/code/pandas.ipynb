{
 "cells": [
  {
   "cell_type": "markdown",
   "id": "4de90ec4",
   "metadata": {},
   "source": [
    "# Pandas\n",
    "\n",
    "Pandas ini adalah tools utama untuk manipulasi data tabular di python"
   ]
  },
  {
   "cell_type": "markdown",
   "id": "b7fd717a",
   "metadata": {},
   "source": [
    "## 1. Import Pandas"
   ]
  },
  {
   "cell_type": "code",
   "execution_count": 17,
   "id": "5eb2df2d",
   "metadata": {},
   "outputs": [],
   "source": [
    "import pandas as pd"
   ]
  },
  {
   "cell_type": "markdown",
   "id": "3d8352c4",
   "metadata": {},
   "source": [
    "## 2. Stuktur Data: Series dan DataFrame"
   ]
  },
  {
   "cell_type": "code",
   "execution_count": 18,
   "id": "3e569049",
   "metadata": {},
   "outputs": [
    {
     "name": "stdout",
     "output_type": "stream",
     "text": [
      "0    1\n",
      "1    2\n",
      "2    3\n",
      "3    4\n",
      "4    5\n",
      "dtype: int64\n"
     ]
    }
   ],
   "source": [
    "# Series\n",
    "s = pd.Series([1, 2, 3, 4, 5])\n",
    "print(s)"
   ]
  },
  {
   "cell_type": "code",
   "execution_count": 19,
   "id": "918a021e",
   "metadata": {},
   "outputs": [
    {
     "name": "stdout",
     "output_type": "stream",
     "text": [
      "    Nama  Nilai  Kehadiran\n",
      "0   upin    100       True\n",
      "1   ipin     90       True\n",
      "2  citra     80      False\n"
     ]
    }
   ],
   "source": [
    "# DataFrame\n",
    "data = {\n",
    "    \"Nama\" : [\"upin\", \"ipin\", \"citra\"],\n",
    "    \"Nilai\" : [100, 90, 80],\n",
    "    \"Kehadiran\" : [True, True, False]   \n",
    "}\n",
    "\n",
    "df = pd.DataFrame(data)\n",
    "print(df)"
   ]
  },
  {
   "cell_type": "markdown",
   "id": "c8e26413",
   "metadata": {},
   "source": [
    "## 3. Baca dan Tuilis File CSV"
   ]
  },
  {
   "cell_type": "code",
   "execution_count": 20,
   "id": "bf6cea3c",
   "metadata": {},
   "outputs": [
    {
     "name": "stdout",
     "output_type": "stream",
     "text": [
      "    Nama  Nilai  Kehadiran\n",
      "0   upin    100       True\n",
      "1   ipin     90       True\n",
      "2  citra     80      False\n"
     ]
    }
   ],
   "source": [
    "df.to_csv(\"output.csv\", index=False)\n",
    "df = pd.read_csv(\"output.csv\")\n",
    "print(df)"
   ]
  },
  {
   "cell_type": "markdown",
   "id": "38a680ea",
   "metadata": {},
   "source": [
    "## 4. Melihat Data"
   ]
  },
  {
   "cell_type": "code",
   "execution_count": 21,
   "id": "9653fa6f",
   "metadata": {},
   "outputs": [
    {
     "name": "stdout",
     "output_type": "stream",
     "text": [
      "<class 'pandas.core.frame.DataFrame'>\n",
      "RangeIndex: 3 entries, 0 to 2\n",
      "Data columns (total 3 columns):\n",
      " #   Column     Non-Null Count  Dtype \n",
      "---  ------     --------------  ----- \n",
      " 0   Nama       3 non-null      object\n",
      " 1   Nilai      3 non-null      int64 \n",
      " 2   Kehadiran  3 non-null      bool  \n",
      "dtypes: bool(1), int64(1), object(1)\n",
      "memory usage: 183.0+ bytes\n"
     ]
    },
    {
     "data": {
      "text/html": [
       "<div>\n",
       "<style scoped>\n",
       "    .dataframe tbody tr th:only-of-type {\n",
       "        vertical-align: middle;\n",
       "    }\n",
       "\n",
       "    .dataframe tbody tr th {\n",
       "        vertical-align: top;\n",
       "    }\n",
       "\n",
       "    .dataframe thead th {\n",
       "        text-align: right;\n",
       "    }\n",
       "</style>\n",
       "<table border=\"1\" class=\"dataframe\">\n",
       "  <thead>\n",
       "    <tr style=\"text-align: right;\">\n",
       "      <th></th>\n",
       "      <th>Nilai</th>\n",
       "    </tr>\n",
       "  </thead>\n",
       "  <tbody>\n",
       "    <tr>\n",
       "      <th>count</th>\n",
       "      <td>3.0</td>\n",
       "    </tr>\n",
       "    <tr>\n",
       "      <th>mean</th>\n",
       "      <td>90.0</td>\n",
       "    </tr>\n",
       "    <tr>\n",
       "      <th>std</th>\n",
       "      <td>10.0</td>\n",
       "    </tr>\n",
       "    <tr>\n",
       "      <th>min</th>\n",
       "      <td>80.0</td>\n",
       "    </tr>\n",
       "    <tr>\n",
       "      <th>25%</th>\n",
       "      <td>85.0</td>\n",
       "    </tr>\n",
       "    <tr>\n",
       "      <th>50%</th>\n",
       "      <td>90.0</td>\n",
       "    </tr>\n",
       "    <tr>\n",
       "      <th>75%</th>\n",
       "      <td>95.0</td>\n",
       "    </tr>\n",
       "    <tr>\n",
       "      <th>max</th>\n",
       "      <td>100.0</td>\n",
       "    </tr>\n",
       "  </tbody>\n",
       "</table>\n",
       "</div>"
      ],
      "text/plain": [
       "       Nilai\n",
       "count    3.0\n",
       "mean    90.0\n",
       "std     10.0\n",
       "min     80.0\n",
       "25%     85.0\n",
       "50%     90.0\n",
       "75%     95.0\n",
       "max    100.0"
      ]
     },
     "execution_count": 21,
     "metadata": {},
     "output_type": "execute_result"
    }
   ],
   "source": [
    "df.head()         # 5 baris pertama\n",
    "df.tail()         # 5 baris terakhir\n",
    "df.shape          # (baris, kolom)\n",
    "df.columns        # daftar nama kolom\n",
    "df.info()         # ringkasan struktur data\n",
    "df.describe()     # statistik deskriptif\n"
   ]
  },
  {
   "cell_type": "markdown",
   "id": "76edeab3",
   "metadata": {},
   "source": [
    "## 5. Akses Data"
   ]
  },
  {
   "cell_type": "code",
   "execution_count": 22,
   "id": "e7ce7309",
   "metadata": {},
   "outputs": [
    {
     "name": "stdout",
     "output_type": "stream",
     "text": [
      "0     upin\n",
      "1     ipin\n",
      "2    citra\n",
      "Name: Nama, dtype: object\n",
      "    Nama  Nilai\n",
      "0   upin    100\n",
      "1   ipin     90\n",
      "2  citra     80\n",
      "Nama         upin\n",
      "Nilai         100\n",
      "Kehadiran    True\n",
      "Name: 0, dtype: object\n",
      "   Nama  Nilai  Kehadiran\n",
      "0  upin    100       True\n",
      "1  ipin     90       True\n",
      "upin\n"
     ]
    }
   ],
   "source": [
    "print(df[\"Nama\"])             # akses kolom\n",
    "print(df[[\"Nama\", \"Nilai\"]])  # beberapa kolom\n",
    "\n",
    "print(df.iloc[0])# baris pertama\n",
    "print(df.iloc[0:2])# baris 0 sampai 1\n",
    "print(df.loc[0, \"Nama\"])# data spesifik\n",
    "\n"
   ]
  },
  {
   "cell_type": "markdown",
   "id": "4aa007cf",
   "metadata": {},
   "source": [
    "## 6. Filter / Seleksi Data"
   ]
  },
  {
   "cell_type": "code",
   "execution_count": 23,
   "id": "fe09db09",
   "metadata": {},
   "outputs": [
    {
     "data": {
      "text/html": [
       "<div>\n",
       "<style scoped>\n",
       "    .dataframe tbody tr th:only-of-type {\n",
       "        vertical-align: middle;\n",
       "    }\n",
       "\n",
       "    .dataframe tbody tr th {\n",
       "        vertical-align: top;\n",
       "    }\n",
       "\n",
       "    .dataframe thead th {\n",
       "        text-align: right;\n",
       "    }\n",
       "</style>\n",
       "<table border=\"1\" class=\"dataframe\">\n",
       "  <thead>\n",
       "    <tr style=\"text-align: right;\">\n",
       "      <th></th>\n",
       "      <th>Nama</th>\n",
       "      <th>Nilai</th>\n",
       "      <th>Kehadiran</th>\n",
       "    </tr>\n",
       "  </thead>\n",
       "  <tbody>\n",
       "    <tr>\n",
       "      <th>0</th>\n",
       "      <td>upin</td>\n",
       "      <td>100</td>\n",
       "      <td>True</td>\n",
       "    </tr>\n",
       "    <tr>\n",
       "      <th>1</th>\n",
       "      <td>ipin</td>\n",
       "      <td>90</td>\n",
       "      <td>True</td>\n",
       "    </tr>\n",
       "  </tbody>\n",
       "</table>\n",
       "</div>"
      ],
      "text/plain": [
       "   Nama  Nilai  Kehadiran\n",
       "0  upin    100       True\n",
       "1  ipin     90       True"
      ]
     },
     "execution_count": 23,
     "metadata": {},
     "output_type": "execute_result"
    }
   ],
   "source": [
    "df[df[\"Nilai\"] > 80]     # filter siswa dengan nilai > 80"
   ]
  },
  {
   "cell_type": "markdown",
   "id": "228aaacb",
   "metadata": {},
   "source": [
    "## 8. Tambahkan / Hapus Kolom"
   ]
  },
  {
   "cell_type": "code",
   "execution_count": 24,
   "id": "a140eb71",
   "metadata": {},
   "outputs": [],
   "source": [
    "df[\"Lulus\"] = df[\"Nilai\"] > 75  # kolom baru berdasarkan logika\n",
    "\n",
    "df.drop(\"Lulus\", axis=1, inplace=True)  # hapus kolom"
   ]
  },
  {
   "cell_type": "markdown",
   "id": "60619efd",
   "metadata": {},
   "source": [
    "## 9. Ubah Nilai"
   ]
  },
  {
   "cell_type": "code",
   "execution_count": 25,
   "id": "c61d1659",
   "metadata": {},
   "outputs": [],
   "source": [
    "df[\"Nilai\"] = df[\"Nilai\"] + 5\n",
    "df.loc[0, \"Nama\"] = \"Andi\"     # ubah data baris pertama kolom Nama"
   ]
  },
  {
   "cell_type": "markdown",
   "id": "4bd01e2e",
   "metadata": {},
   "source": [
    "# 10. Deteksi Nilai Hilang"
   ]
  },
  {
   "cell_type": "code",
   "execution_count": 26,
   "id": "676b0feb",
   "metadata": {},
   "outputs": [
    {
     "data": {
      "text/html": [
       "<div>\n",
       "<style scoped>\n",
       "    .dataframe tbody tr th:only-of-type {\n",
       "        vertical-align: middle;\n",
       "    }\n",
       "\n",
       "    .dataframe tbody tr th {\n",
       "        vertical-align: top;\n",
       "    }\n",
       "\n",
       "    .dataframe thead th {\n",
       "        text-align: right;\n",
       "    }\n",
       "</style>\n",
       "<table border=\"1\" class=\"dataframe\">\n",
       "  <thead>\n",
       "    <tr style=\"text-align: right;\">\n",
       "      <th></th>\n",
       "      <th>Nama</th>\n",
       "      <th>Nilai</th>\n",
       "      <th>Kehadiran</th>\n",
       "    </tr>\n",
       "  </thead>\n",
       "  <tbody>\n",
       "    <tr>\n",
       "      <th>0</th>\n",
       "      <td>Andi</td>\n",
       "      <td>105</td>\n",
       "      <td>True</td>\n",
       "    </tr>\n",
       "    <tr>\n",
       "      <th>1</th>\n",
       "      <td>ipin</td>\n",
       "      <td>95</td>\n",
       "      <td>True</td>\n",
       "    </tr>\n",
       "    <tr>\n",
       "      <th>2</th>\n",
       "      <td>citra</td>\n",
       "      <td>85</td>\n",
       "      <td>False</td>\n",
       "    </tr>\n",
       "  </tbody>\n",
       "</table>\n",
       "</div>"
      ],
      "text/plain": [
       "    Nama  Nilai  Kehadiran\n",
       "0   Andi    105       True\n",
       "1   ipin     95       True\n",
       "2  citra     85      False"
      ]
     },
     "execution_count": 26,
     "metadata": {},
     "output_type": "execute_result"
    }
   ],
   "source": [
    "df.isnull().sum()      # cek jumlah null tiap kolom\n",
    "df.dropna()            # hapus baris yang ada null-nya\n",
    "df.fillna(0)           # isi null dengan 0"
   ]
  },
  {
   "cell_type": "markdown",
   "id": "979cbaf8",
   "metadata": {},
   "source": [
    "# 11. Encoding Data Kategori"
   ]
  },
  {
   "cell_type": "code",
   "execution_count": 27,
   "id": "67af0fb1",
   "metadata": {},
   "outputs": [],
   "source": [
    "df[\"Gender\"] = [\"L\", \"P\", \"P\"]  # match the number of rows in df\n",
    "df_encoded = pd.get_dummies(df, columns=[\"Gender\"])"
   ]
  },
  {
   "cell_type": "markdown",
   "id": "2dfc2cca",
   "metadata": {},
   "source": [
    "# 12. Normalisasi Data"
   ]
  },
  {
   "cell_type": "code",
   "execution_count": 28,
   "id": "50c8c626",
   "metadata": {},
   "outputs": [],
   "source": [
    "from sklearn.preprocessing import StandardScaler\n",
    "\n",
    "scaler = StandardScaler()\n",
    "df[[\"Nilai\"]] = scaler.fit_transform(df[[\"Nilai\"]])"
   ]
  },
  {
   "cell_type": "markdown",
   "id": "6d921c89",
   "metadata": {},
   "source": [
    "# 13. Gabung (merge/join)"
   ]
  },
  {
   "cell_type": "code",
   "execution_count": 40,
   "id": "f8b2810b",
   "metadata": {},
   "outputs": [
    {
     "data": {
      "text/html": [
       "<div>\n",
       "<style scoped>\n",
       "    .dataframe tbody tr th:only-of-type {\n",
       "        vertical-align: middle;\n",
       "    }\n",
       "\n",
       "    .dataframe tbody tr th {\n",
       "        vertical-align: top;\n",
       "    }\n",
       "\n",
       "    .dataframe thead th {\n",
       "        text-align: right;\n",
       "    }\n",
       "</style>\n",
       "<table border=\"1\" class=\"dataframe\">\n",
       "  <thead>\n",
       "    <tr style=\"text-align: right;\">\n",
       "      <th></th>\n",
       "      <th>Name_x</th>\n",
       "      <th>classifications</th>\n",
       "      <th>Name_y</th>\n",
       "    </tr>\n",
       "  </thead>\n",
       "  <tbody>\n",
       "    <tr>\n",
       "      <th>0</th>\n",
       "      <td>airplane</td>\n",
       "      <td>Air</td>\n",
       "      <td>bird</td>\n",
       "    </tr>\n",
       "    <tr>\n",
       "      <th>1</th>\n",
       "      <td>bus</td>\n",
       "      <td>Land</td>\n",
       "      <td>elephant</td>\n",
       "    </tr>\n",
       "    <tr>\n",
       "      <th>2</th>\n",
       "      <td>boat</td>\n",
       "      <td>Water</td>\n",
       "      <td>fish</td>\n",
       "    </tr>\n",
       "  </tbody>\n",
       "</table>\n",
       "</div>"
      ],
      "text/plain": [
       "     Name_x classifications    Name_y\n",
       "0  airplane             Air      bird\n",
       "1       bus            Land  elephant\n",
       "2      boat           Water      fish"
      ]
     },
     "execution_count": 40,
     "metadata": {},
     "output_type": "execute_result"
    }
   ],
   "source": [
    "transportation = {\n",
    "    \"Name\" : [\"boat\", \"airplane\", \"bus\"],\n",
    "    \"classifications\" : [\"Water\", \"Air\", \"Land\"],\n",
    "}\n",
    "\n",
    "animal = {\n",
    "    \"Name\" : [\"fish\", \"bird\", \"elephant\"],\n",
    "    \"classifications\" : [\"Water\", \"Air\", \"Land\"],\n",
    "}\n",
    "\n",
    "df_transportation = pd.DataFrame(transportation)\n",
    "df_animal = pd.DataFrame(animal)\n",
    "\n",
    "# merge 2 DataFrame\n",
    "pd.merge(df_transportation, df_animal, on=\"classifications\", how=\"outer\")\n"
   ]
  }
 ],
 "metadata": {
  "kernelspec": {
   "display_name": "venv",
   "language": "python",
   "name": "python3"
  },
  "language_info": {
   "codemirror_mode": {
    "name": "ipython",
    "version": 3
   },
   "file_extension": ".py",
   "mimetype": "text/x-python",
   "name": "python",
   "nbconvert_exporter": "python",
   "pygments_lexer": "ipython3",
   "version": "3.13.0"
  }
 },
 "nbformat": 4,
 "nbformat_minor": 5
}
